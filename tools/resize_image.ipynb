{
 "cells": [
  {
   "cell_type": "code",
   "execution_count": 1,
   "metadata": {},
   "outputs": [
    {
     "name": "stdout",
     "output_type": "stream",
     "text": [
      "..\n"
     ]
    },
    {
     "data": {
      "text/plain": [
       "True"
      ]
     },
     "execution_count": 1,
     "metadata": {},
     "output_type": "execute_result"
    }
   ],
   "source": [
    "import cv2\n",
    "from pathlib import Path\n",
    "root_dir = Path('..')\n",
    "print(root_dir)\n",
    "GAME = 'fu'\n",
    "MODE = 'free_game'\n",
    "SYMBOL = 'envelope'\n",
    "SCALE = 1.5\n",
    "img_path = root_dir / f'images/{GAME}/symbols/{MODE}/{SYMBOL}.png'\n",
    "output_path = root_dir / f'temp/resized_symbols/{SYMBOL}.png'\n",
    "img = cv2.imread(str(img_path), cv2.IMREAD_UNCHANGED)\n",
    "img = cv2.resize(img, (0, 0), fx=SCALE, fy=SCALE)\n",
    "alpha_channel = img[:, :, 3]\n",
    "# cv2.imshow('Alpha Channel', alpha_channel)\n",
    "# cv2.imshow('img', img)\n",
    "# cv2.waitKey(0)\n",
    "# cv2.destroyAllWindows()\n",
    "cv2.imwrite(str(output_path), img)"
   ]
  }
 ],
 "metadata": {
  "kernelspec": {
   "display_name": "venv",
   "language": "python",
   "name": "python3"
  },
  "language_info": {
   "codemirror_mode": {
    "name": "ipython",
    "version": 3
   },
   "file_extension": ".py",
   "mimetype": "text/x-python",
   "name": "python",
   "nbconvert_exporter": "python",
   "pygments_lexer": "ipython3",
   "version": "3.11.8"
  }
 },
 "nbformat": 4,
 "nbformat_minor": 2
}
